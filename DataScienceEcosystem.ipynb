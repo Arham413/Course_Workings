{
 "cells": [
  {
   "cell_type": "markdown",
   "id": "4280f617-d7ff-46a5-a310-db0ccee05097",
   "metadata": {},
   "source": [
    "# Data Science Tools and Ecosystem"
   ]
  },
  {
   "cell_type": "markdown",
   "id": "eccc6dd1-37f3-44f5-90ca-5f00fd03b6e4",
   "metadata": {},
   "source": [
    "### This notebook briefly illustrates the different Data Science tools and Ecosystem."
   ]
  },
  {
   "cell_type": "markdown",
   "id": "8b716b1d-fced-4d44-bb95-6f2bf3224a32",
   "metadata": {},
   "source": [
    "#### **Objectives:** \n",
    "- List popular languages used in Data Science\n",
    "- List several open source development environments used in Data science\n",
    "- List regularly used libraries in Data Science\n",
    "- List examples of evaluating arithmetic expressions"
   ]
  },
  {
   "cell_type": "markdown",
   "id": "2bbaecbe-883d-4b4b-b062-576c0facc374",
   "metadata": {},
   "source": [
    "#### Some of the most frequently used languages in Data Science are:"
   ]
  },
  {
   "cell_type": "markdown",
   "id": "91047f94-762b-4274-8d4c-8c9f48683aac",
   "metadata": {},
   "source": [
    "1. Python\n",
    "2. C++\n",
    "3. Scala\n",
    "4. Java\n",
    "5. SQL"
   ]
  },
  {
   "cell_type": "markdown",
   "id": "84f33029-7765-4f29-bc56-5508407fe41f",
   "metadata": {},
   "source": [
    "#### Data Scientists make use of these libraries on a regular basis:"
   ]
  },
  {
   "cell_type": "markdown",
   "id": "32ef19b5-4c1a-48d6-84d5-b8a6336b6d65",
   "metadata": {},
   "source": [
    "1. NumPy\n",
    "2. Pandas\n",
    "3. Scikit-learn\n",
    "4. PyTorch\n",
    "5. Matplotlib"
   ]
  },
  {
   "cell_type": "markdown",
   "id": "0697fc10-7a85-40be-ac6c-3a8d43b10d0b",
   "metadata": {},
   "source": [
    "|Data Science Tools|\n",
    "|------------------|\n",
    "|Jupyter Lab|\n",
    "|RStudio|\n",
    "|Apache Zeppelin|\n"
   ]
  },
  {
   "cell_type": "markdown",
   "id": "6ae40f6c-10d6-4675-8153-ab86b69baac2",
   "metadata": {},
   "source": [
    "### Evaluating expressions in python can be done in the following ways:"
   ]
  },
  {
   "cell_type": "markdown",
   "id": "3fe24af8-adb9-4aff-a770-98204c6359e4",
   "metadata": {},
   "source": [
    "#### Below is a basic arithmetic expression where integers are first multiplied and then added."
   ]
  },
  {
   "cell_type": "code",
   "execution_count": null,
   "id": "d4250b78-a32e-4e11-a430-115ebaf0fef3",
   "metadata": {},
   "outputs": [],
   "source": [
    "(3*4)+5"
   ]
  },
  {
   "cell_type": "markdown",
   "id": "acc29b71-1d68-4374-bb36-148b546ee37e",
   "metadata": {},
   "source": [
    "#### Below is an expression that will convert 200 minutes into hours."
   ]
  },
  {
   "cell_type": "code",
   "execution_count": null,
   "id": "38753b6d-a550-4882-a8cf-9a7199b6655e",
   "metadata": {},
   "outputs": [],
   "source": [
    "200/60"
   ]
  },
  {
   "cell_type": "markdown",
   "id": "a681f3b3-2011-43e4-a1c2-c65faf8e18ba",
   "metadata": {},
   "source": [
    "## Author\n",
    "M.Arham Shahid"
   ]
  },
  {
   "cell_type": "code",
   "execution_count": null,
   "id": "4aee7705-2fc8-4712-b8d8-65430795be51",
   "metadata": {},
   "outputs": [],
   "source": []
  }
 ],
 "metadata": {
  "kernelspec": {
   "display_name": "Python 3 (ipykernel)",
   "language": "python",
   "name": "python3"
  },
  "language_info": {
   "codemirror_mode": {
    "name": "ipython",
    "version": 3
   },
   "file_extension": ".py",
   "mimetype": "text/x-python",
   "name": "python",
   "nbconvert_exporter": "python",
   "pygments_lexer": "ipython3",
   "version": "3.12.8"
  }
 },
 "nbformat": 4,
 "nbformat_minor": 5
}
